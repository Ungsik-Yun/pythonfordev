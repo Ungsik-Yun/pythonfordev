{
 "cells": [
  {
   "cell_type": "code",
   "execution_count": 1,
   "metadata": {},
   "outputs": [],
   "source": [
    "f = open('examples/lorem.txt', 'r')"
   ]
  },
  {
   "cell_type": "code",
   "execution_count": 2,
   "metadata": {},
   "outputs": [
    {
     "data": {
      "text/plain": [
       "'Lorem ipsum dolor sit amet, consectetur adipiscing elit. Ut mollis hendrerit faucibus. Nullam mollis iaculis laoreet. Duis bibendum augue ut velit dapibus, quis semper mi pharetra. Nullam eu sapien purus. Morbi gravida magna ut egestas viverra. Suspendisse non viverra ipsum, semper congue metus. Maecenas maximus augue eget sollicitudin interdum.\\n\\nAenean magna odio, ultrices eu euismod eget, bibendum nec metus. Curabitur urna dui, scelerisque vel elit ac, tincidunt ultrices lectus. Vivamus nec commodo nunc. Etiam efficitur malesuada ex, nec pretium turpis cursus et. Cras sed risus non ligula commodo mattis sed at felis. Cras pharetra feugiat nibh ut bibendum. Maecenas nibh diam, porta eget lectus id, efficitur consequat velit. Quisque egestas libero urna, at congue erat fermentum et. Proin pulvinar diam quis turpis condimentum convallis at et purus. Aliquam non eleifend lacus. Phasellus tincidunt felis ac risus feugiat, ac gravida urna convallis. Sed vel ornare magna, vitae luctus ex. Proin odio arcu, tincidunt at turpis ut, eleifend ornare velit. Nulla vel tempor ex. Quisque sed pharetra orci.\\n\\nIn hac habitasse platea dictumst. Phasellus rhoncus malesuada lectus, vitae sollicitudin sem elementum non. Sed sed mauris sed ante sodales faucibus in at lorem. Lorem ipsum dolor sit amet, consectetur adipiscing elit. Quisque sodales erat viverra urna dapibus, eu accumsan libero sodales. Suspendisse tempus mattis placerat. Sed efficitur ornare nulla eget sollicitudin. Morbi lobortis, metus non maximus imperdiet, odio leo efficitur ex, a blandit turpis nunc eget sem. Morbi nec magna vel magna cursus tincidunt.\\n\\nDuis viverra rhoncus lacus id fermentum. Aliquam erat volutpat. Aliquam molestie congue nunc, dictum ornare nibh molestie eu. Curabitur ultricies, leo vitae aliquam dignissim, mauris dui interdum tortor, et hendrerit ligula ante at enim. Phasellus posuere et massa eget lacinia. Curabitur vel bibendum massa. Ut cursus, dui a ullamcorper sodales, nibh risus interdum ex, quis porta libero sem ut turpis. Morbi accumsan dolor erat, at varius nisi ultrices in. Sed molestie sit amet enim quis eleifend. Vivamus hendrerit feugiat volutpat. Vivamus laoreet velit lectus, vel facilisis mauris aliquam a.\\n\\nMorbi feugiat, elit a mollis maximus, neque felis fermentum lacus, eget ullamcorper magna felis vitae tellus. Donec malesuada porttitor arcu, ut tincidunt nisl vestibulum egestas. Nam sapien eros, cursus ac facilisis eu, elementum feugiat elit. Etiam metus odio, congue id pharetra vitae, pharetra sit amet mi. Nunc ultrices lectus quis dictum maximus. Mauris porta enim sed pharetra dignissim. Morbi a mollis turpis. Phasellus est tortor, maximus id sem eu, fermentum ornare ipsum. Phasellus ut elementum sapien.'"
      ]
     },
     "execution_count": 2,
     "metadata": {},
     "output_type": "execute_result"
    }
   ],
   "source": [
    "f.read()"
   ]
  },
  {
   "cell_type": "code",
   "execution_count": 3,
   "metadata": {},
   "outputs": [
    {
     "data": {
      "text/plain": [
       "'Lorem ipsum dolor sit amet, consectetur adipiscing elit. Ut mollis hendrerit faucibus. Nullam mollis iaculis laoreet. Duis bibendum augue ut velit dapibus, quis semper mi pharetra. Nullam eu sapien purus. Morbi gravida magna ut egestas viverra. Suspendisse non viverra ipsum, semper congue metus. Maecenas maximus augue eget sollicitudin interdum.\\n'"
      ]
     },
     "execution_count": 3,
     "metadata": {},
     "output_type": "execute_result"
    }
   ],
   "source": [
    "f = open(\"examples/lorem.txt\")\n",
    "f.readline()"
   ]
  },
  {
   "cell_type": "code",
   "execution_count": 4,
   "metadata": {},
   "outputs": [
    {
     "data": {
      "text/plain": [
       "['Lorem ipsum dolor sit amet, consectetur adipiscing elit. Ut mollis hendrerit faucibus. Nullam mollis iaculis laoreet. Duis bibendum augue ut velit dapibus, quis semper mi pharetra. Nullam eu sapien purus. Morbi gravida magna ut egestas viverra. Suspendisse non viverra ipsum, semper congue metus. Maecenas maximus augue eget sollicitudin interdum.\\n',\n",
       " '\\n',\n",
       " 'Aenean magna odio, ultrices eu euismod eget, bibendum nec metus. Curabitur urna dui, scelerisque vel elit ac, tincidunt ultrices lectus. Vivamus nec commodo nunc. Etiam efficitur malesuada ex, nec pretium turpis cursus et. Cras sed risus non ligula commodo mattis sed at felis. Cras pharetra feugiat nibh ut bibendum. Maecenas nibh diam, porta eget lectus id, efficitur consequat velit. Quisque egestas libero urna, at congue erat fermentum et. Proin pulvinar diam quis turpis condimentum convallis at et purus. Aliquam non eleifend lacus. Phasellus tincidunt felis ac risus feugiat, ac gravida urna convallis. Sed vel ornare magna, vitae luctus ex. Proin odio arcu, tincidunt at turpis ut, eleifend ornare velit. Nulla vel tempor ex. Quisque sed pharetra orci.\\n',\n",
       " '\\n',\n",
       " 'In hac habitasse platea dictumst. Phasellus rhoncus malesuada lectus, vitae sollicitudin sem elementum non. Sed sed mauris sed ante sodales faucibus in at lorem. Lorem ipsum dolor sit amet, consectetur adipiscing elit. Quisque sodales erat viverra urna dapibus, eu accumsan libero sodales. Suspendisse tempus mattis placerat. Sed efficitur ornare nulla eget sollicitudin. Morbi lobortis, metus non maximus imperdiet, odio leo efficitur ex, a blandit turpis nunc eget sem. Morbi nec magna vel magna cursus tincidunt.\\n',\n",
       " '\\n',\n",
       " 'Duis viverra rhoncus lacus id fermentum. Aliquam erat volutpat. Aliquam molestie congue nunc, dictum ornare nibh molestie eu. Curabitur ultricies, leo vitae aliquam dignissim, mauris dui interdum tortor, et hendrerit ligula ante at enim. Phasellus posuere et massa eget lacinia. Curabitur vel bibendum massa. Ut cursus, dui a ullamcorper sodales, nibh risus interdum ex, quis porta libero sem ut turpis. Morbi accumsan dolor erat, at varius nisi ultrices in. Sed molestie sit amet enim quis eleifend. Vivamus hendrerit feugiat volutpat. Vivamus laoreet velit lectus, vel facilisis mauris aliquam a.\\n',\n",
       " '\\n',\n",
       " 'Morbi feugiat, elit a mollis maximus, neque felis fermentum lacus, eget ullamcorper magna felis vitae tellus. Donec malesuada porttitor arcu, ut tincidunt nisl vestibulum egestas. Nam sapien eros, cursus ac facilisis eu, elementum feugiat elit. Etiam metus odio, congue id pharetra vitae, pharetra sit amet mi. Nunc ultrices lectus quis dictum maximus. Mauris porta enim sed pharetra dignissim. Morbi a mollis turpis. Phasellus est tortor, maximus id sem eu, fermentum ornare ipsum. Phasellus ut elementum sapien.']"
      ]
     },
     "execution_count": 4,
     "metadata": {},
     "output_type": "execute_result"
    }
   ],
   "source": [
    "f = open(\"examples/lorem.txt\")\n",
    "texts = f.readlines()\n",
    "texts"
   ]
  },
  {
   "cell_type": "code",
   "execution_count": 5,
   "metadata": {},
   "outputs": [
    {
     "name": "stdout",
     "output_type": "stream",
     "text": [
      "Lorem ipsum dolor sit amet, consectetur adipiscing elit. Ut mollis hendrerit faucibus. Nullam mollis iaculis laoreet. Duis bibendum augue ut velit dapibus, quis semper mi pharetra. Nullam eu sapien purus. Morbi gravida magna ut egestas viverra. Suspendisse non viverra ipsum, semper congue metus. Maecenas maximus augue eget sollicitudin interdum.\n",
      "\n"
     ]
    }
   ],
   "source": [
    "print(texts[0])"
   ]
  },
  {
   "cell_type": "code",
   "execution_count": 6,
   "metadata": {},
   "outputs": [
    {
     "name": "stdout",
     "output_type": "stream",
     "text": [
      "Lorem ipsum dolor sit amet, consectetur adipiscing elit. Ut mollis hendrerit faucibus. Nullam mollis iaculis laoreet. Duis bibendum augue ut velit dapibus, quis semper mi pharetra. Nullam eu sapien purus. Morbi gravida magna ut egestas viverra. Suspendisse non viverra ipsum, semper congue metus. Maecenas maximus augue eget sollicitudin interdum.\n",
      "\n",
      "\n",
      "\n",
      "Aenean magna odio, ultrices eu euismod eget, bibendum nec metus. Curabitur urna dui, scelerisque vel elit ac, tincidunt ultrices lectus. Vivamus nec commodo nunc. Etiam efficitur malesuada ex, nec pretium turpis cursus et. Cras sed risus non ligula commodo mattis sed at felis. Cras pharetra feugiat nibh ut bibendum. Maecenas nibh diam, porta eget lectus id, efficitur consequat velit. Quisque egestas libero urna, at congue erat fermentum et. Proin pulvinar diam quis turpis condimentum convallis at et purus. Aliquam non eleifend lacus. Phasellus tincidunt felis ac risus feugiat, ac gravida urna convallis. Sed vel ornare magna, vitae luctus ex. Proin odio arcu, tincidunt at turpis ut, eleifend ornare velit. Nulla vel tempor ex. Quisque sed pharetra orci.\n",
      "\n",
      "\n",
      "\n",
      "In hac habitasse platea dictumst. Phasellus rhoncus malesuada lectus, vitae sollicitudin sem elementum non. Sed sed mauris sed ante sodales faucibus in at lorem. Lorem ipsum dolor sit amet, consectetur adipiscing elit. Quisque sodales erat viverra urna dapibus, eu accumsan libero sodales. Suspendisse tempus mattis placerat. Sed efficitur ornare nulla eget sollicitudin. Morbi lobortis, metus non maximus imperdiet, odio leo efficitur ex, a blandit turpis nunc eget sem. Morbi nec magna vel magna cursus tincidunt.\n",
      "\n",
      "\n",
      "\n",
      "Duis viverra rhoncus lacus id fermentum. Aliquam erat volutpat. Aliquam molestie congue nunc, dictum ornare nibh molestie eu. Curabitur ultricies, leo vitae aliquam dignissim, mauris dui interdum tortor, et hendrerit ligula ante at enim. Phasellus posuere et massa eget lacinia. Curabitur vel bibendum massa. Ut cursus, dui a ullamcorper sodales, nibh risus interdum ex, quis porta libero sem ut turpis. Morbi accumsan dolor erat, at varius nisi ultrices in. Sed molestie sit amet enim quis eleifend. Vivamus hendrerit feugiat volutpat. Vivamus laoreet velit lectus, vel facilisis mauris aliquam a.\n",
      "\n",
      "\n",
      "\n",
      "Morbi feugiat, elit a mollis maximus, neque felis fermentum lacus, eget ullamcorper magna felis vitae tellus. Donec malesuada porttitor arcu, ut tincidunt nisl vestibulum egestas. Nam sapien eros, cursus ac facilisis eu, elementum feugiat elit. Etiam metus odio, congue id pharetra vitae, pharetra sit amet mi. Nunc ultrices lectus quis dictum maximus. Mauris porta enim sed pharetra dignissim. Morbi a mollis turpis. Phasellus est tortor, maximus id sem eu, fermentum ornare ipsum. Phasellus ut elementum sapien.\n"
     ]
    }
   ],
   "source": [
    "f = open(\"examples/lorem.txt\")\n",
    "\n",
    "for line in f:\n",
    "    print(line)"
   ]
  },
  {
   "cell_type": "code",
   "execution_count": 7,
   "metadata": {},
   "outputs": [],
   "source": [
    "f.close()"
   ]
  }
 ],
 "metadata": {
  "kernelspec": {
   "display_name": "Python 3",
   "language": "python",
   "name": "python3"
  },
  "language_info": {
   "codemirror_mode": {
    "name": "ipython",
    "version": 3
   },
   "file_extension": ".py",
   "mimetype": "text/x-python",
   "name": "python",
   "nbconvert_exporter": "python",
   "pygments_lexer": "ipython3",
   "version": "3.6.3"
  }
 },
 "nbformat": 4,
 "nbformat_minor": 2
}
