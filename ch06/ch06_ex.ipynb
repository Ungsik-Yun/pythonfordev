{
 "cells": [
  {
   "cell_type": "code",
   "execution_count": 1,
   "metadata": {},
   "outputs": [],
   "source": [
    "class Diva:\n",
    "    # 클래스 변수\n",
    "    version = \"v3\"\n",
    "\n",
    "    def __init__(self, name = \"Diva\"):\n",
    "        # 인스턴스 변수\n",
    "        self.name = name"
   ]
  },
  {
   "cell_type": "code",
   "execution_count": 2,
   "metadata": {},
   "outputs": [
    {
     "name": "stdout",
     "output_type": "stream",
     "text": [
      "====\n",
      "Name:  Diva\n",
      "Version:  v3\n",
      "====\n",
      "Name:  Miku\n",
      "Version:  v3\n",
      "====\n",
      "Name:  Hana\n",
      "Version:  v3\n"
     ]
    }
   ],
   "source": [
    "diva1 = Diva()\n",
    "diva2 = Diva(\"Miku\")\n",
    "diva3 = Diva(\"Hana\")\n",
    "\n",
    "def print_diva_info(diva):\n",
    "    print(\"====\")\n",
    "    print(\"Name: \", diva.name)\n",
    "    print(\"Version: \", diva.version)\n",
    "    \n",
    "print_diva_info(diva1)\n",
    "print_diva_info(diva2)\n",
    "print_diva_info(diva3)"
   ]
  },
  {
   "cell_type": "code",
   "execution_count": 3,
   "metadata": {},
   "outputs": [
    {
     "name": "stdout",
     "output_type": "stream",
     "text": [
      "====\n",
      "Name:  Diva\n",
      "Version:  v4\n",
      "====\n",
      "Name:  Miku\n",
      "Version:  v4\n",
      "====\n",
      "Name:  Hana\n",
      "Version:  v4\n"
     ]
    }
   ],
   "source": [
    "# Diva 클래스를 직접 수정한다는 것에 주의하세요!\n",
    "Diva.version = \"v4\"\n",
    "\n",
    "print_diva_info(diva1)\n",
    "print_diva_info(diva2)\n",
    "print_diva_info(diva3)"
   ]
  },
  {
   "cell_type": "code",
   "execution_count": 4,
   "metadata": {},
   "outputs": [],
   "source": [
    "class Diva:\n",
    "    # 클래스 변수\n",
    "    version = \"v3\"\n",
    "\n",
    "    def __init__(self, name = \"Diva\"):\n",
    "        # 인스턴스 변수\n",
    "        self.name = name\n",
    "\n",
    "    def song(self, title = \"song\"):\n",
    "        print(self.name + \" sing the \" + title)\n",
    "\n",
    "    def medley(self):\n",
    "        self.song()\n",
    "        self.song(\"second song\")\n",
    "        self.song(\"third song\")"
   ]
  },
  {
   "cell_type": "code",
   "execution_count": 5,
   "metadata": {},
   "outputs": [
    {
     "name": "stdout",
     "output_type": "stream",
     "text": [
      "Hana sing the song\n",
      "Hana sing the Wolrd is Mine\n",
      "Hana sing the song\n",
      "Hana sing the second song\n",
      "Hana sing the third song\n"
     ]
    }
   ],
   "source": [
    "voice_diva = Diva(\"Hana\")\n",
    "voice_diva.song()\n",
    "voice_diva.song(\"Wolrd is Mine\")\n",
    "voice_diva.medley()"
   ]
  },
  {
   "cell_type": "code",
   "execution_count": 6,
   "metadata": {},
   "outputs": [
    {
     "name": "stdout",
     "output_type": "stream",
     "text": [
      "Hana sing the Tell your world\n"
     ]
    }
   ],
   "source": [
    "Diva.song(voice_diva, \"Tell your world\")"
   ]
  },
  {
   "cell_type": "code",
   "execution_count": 7,
   "metadata": {},
   "outputs": [
    {
     "name": "stdout",
     "output_type": "stream",
     "text": [
      "12\n"
     ]
    }
   ],
   "source": [
    "class Calculater:\n",
    "    def adder(l, r):\n",
    "        print(l + r)\n",
    "\n",
    "Calculater.adder(3, 9)"
   ]
  },
  {
   "cell_type": "code",
   "execution_count": 8,
   "metadata": {},
   "outputs": [],
   "source": [
    "class Miku(Diva):\n",
    "    def __init__(self, module=\"class uniform\"):\n",
    "        self.module = module\n",
    "        # 수퍼 클래스를 초기화하지 않으면\n",
    "        # 수퍼 클래스에서 초기화 & 할당되는 name 변수를 사용할 수 없습니다.\n",
    "        super().__init__(\"miku\")\n",
    "\n",
    "    def dance(self):\n",
    "        print(\"Dancing!\")"
   ]
  },
  {
   "cell_type": "code",
   "execution_count": 9,
   "metadata": {},
   "outputs": [
    {
     "name": "stdout",
     "output_type": "stream",
     "text": [
      "class uniform\n",
      "v3\n",
      "miku\n",
      "Dancing!\n",
      "miku sing the Hello worker\n"
     ]
    }
   ],
   "source": [
    "hatsune_miku = Miku()\n",
    "print(hatsune_miku.module)\n",
    "print(hatsune_miku.version)\n",
    "print(hatsune_miku.name)\n",
    "hatsune_miku.dance()\n",
    "hatsune_miku.song(\"Hello worker\")"
   ]
  },
  {
   "cell_type": "code",
   "execution_count": 10,
   "metadata": {},
   "outputs": [
    {
     "name": "stdout",
     "output_type": "stream",
     "text": [
      "Nya~\n",
      "Mung\n"
     ]
    }
   ],
   "source": [
    "class Cat:\n",
    "    def sound(self):\n",
    "        print(\"Nya~\")\n",
    "\n",
    "class Dog:\n",
    "    def sound(self):\n",
    "        print(\"Mung\")\n",
    "\n",
    "cat = Cat()\n",
    "dog = Dog()\n",
    "\n",
    "animals = [cat, dog]\n",
    "\n",
    "for animal in animals:\n",
    "    animal.sound()"
   ]
  }
 ],
 "metadata": {
  "kernelspec": {
   "display_name": "Python 3",
   "language": "python",
   "name": "python3"
  },
  "language_info": {
   "codemirror_mode": {
    "name": "ipython",
    "version": 3
   },
   "file_extension": ".py",
   "mimetype": "text/x-python",
   "name": "python",
   "nbconvert_exporter": "python",
   "pygments_lexer": "ipython3",
   "version": "3.6.3"
  }
 },
 "nbformat": 4,
 "nbformat_minor": 2
}
