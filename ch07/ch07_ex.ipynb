{
 "cells": [
  {
   "cell_type": "code",
   "execution_count": 1,
   "metadata": {},
   "outputs": [
    {
     "name": "stdout",
     "output_type": "stream",
     "text": [
      "Writing diva.py\n"
     ]
    }
   ],
   "source": [
    "%%writefile diva.py\n",
    "# coding: utf-8\n",
    "class Singer:\n",
    "    def __init__(self, name=\"miku\"):\n",
    "        self.name = name\n",
    "\n",
    "    def song(title=\"No name\"):\n",
    "        print(\"Sing the \", title)"
   ]
  },
  {
   "cell_type": "code",
   "execution_count": 2,
   "metadata": {},
   "outputs": [
    {
     "name": "stdout",
     "output_type": "stream",
     "text": [
      "Sing the  Weekend Girl\n"
     ]
    }
   ],
   "source": [
    "import diva\n",
    "\n",
    "diva.Singer.song(\"Weekend Girl\")"
   ]
  },
  {
   "cell_type": "code",
   "execution_count": 3,
   "metadata": {},
   "outputs": [
    {
     "name": "stdout",
     "output_type": "stream",
     "text": [
      "miku\n"
     ]
    }
   ],
   "source": [
    "singer = diva.Singer()\n",
    "\n",
    "print(singer.name)"
   ]
  },
  {
   "cell_type": "code",
   "execution_count": 4,
   "metadata": {},
   "outputs": [
    {
     "name": "stdout",
     "output_type": "stream",
     "text": [
      "Writing calculater.py\n"
     ]
    }
   ],
   "source": [
    "%%writefile calculater.py\n",
    "# coding: utf-8\n",
    "def add(l, r):\n",
    "    return l + r\n",
    "\n",
    "def mul(l, r):\n",
    "    return l * r\n",
    "\n",
    "def div(l, r):\n",
    "    return l / r"
   ]
  },
  {
   "cell_type": "code",
   "execution_count": 5,
   "metadata": {},
   "outputs": [
    {
     "name": "stdout",
     "output_type": "stream",
     "text": [
      "12\n"
     ]
    }
   ],
   "source": [
    "from calculater import add\n",
    "\n",
    "print(add(3, 9))"
   ]
  },
  {
   "cell_type": "code",
   "execution_count": 6,
   "metadata": {},
   "outputs": [
    {
     "name": "stdout",
     "output_type": "stream",
     "text": [
      "12\n",
      "27\n",
      "13.0\n"
     ]
    }
   ],
   "source": [
    "from calculater import *\n",
    "\n",
    "print(add(3, 9))\n",
    "print(mul(3, 9))\n",
    "print(div(39, 3))"
   ]
  },
  {
   "cell_type": "code",
   "execution_count": 7,
   "metadata": {},
   "outputs": [
    {
     "name": "stdout",
     "output_type": "stream",
     "text": [
      "Writing thisIsVeryLongNameModule.py\n"
     ]
    }
   ],
   "source": [
    "%%writefile thisIsVeryLongNameModule.py\n",
    "# -*- coding: utf-8 -*-\n",
    "def hello():\n",
    "    print(\"Hello! I am hello function in thisIsVeryLongNameModule!\")"
   ]
  },
  {
   "cell_type": "code",
   "execution_count": 8,
   "metadata": {},
   "outputs": [
    {
     "name": "stdout",
     "output_type": "stream",
     "text": [
      "Hello! I am hello function in thisIsVeryLongNameModule!\n"
     ]
    }
   ],
   "source": [
    "import thisIsVeryLongNameModule as l\n",
    "\n",
    "l.hello()"
   ]
  },
  {
   "cell_type": "code",
   "execution_count": 9,
   "metadata": {},
   "outputs": [
    {
     "name": "stdout",
     "output_type": "stream",
     "text": [
      "Writing runable.py\n"
     ]
    }
   ],
   "source": [
    "%%writefile runable.py\n",
    "# -*- coding: utf-8 -*-\n",
    "def hello():\n",
    "    print(\"Hello! I am runable module!\")\n",
    "\n",
    "if __name__ == \"__main__\":\n",
    "    print(\"Odd and End\")\n",
    "    hello()"
   ]
  },
  {
   "cell_type": "code",
   "execution_count": 10,
   "metadata": {},
   "outputs": [
    {
     "name": "stdout",
     "output_type": "stream",
     "text": [
      "Odd and End\n",
      "Hello! I am runable module!\n"
     ]
    }
   ],
   "source": [
    "%run runable.py"
   ]
  }
 ],
 "metadata": {
  "kernelspec": {
   "display_name": "Python 3",
   "language": "python",
   "name": "python3"
  },
  "language_info": {
   "codemirror_mode": {
    "name": "ipython",
    "version": 3
   },
   "file_extension": ".py",
   "mimetype": "text/x-python",
   "name": "python",
   "nbconvert_exporter": "python",
   "pygments_lexer": "ipython3",
   "version": "3.6.3"
  }
 },
 "nbformat": 4,
 "nbformat_minor": 2
}
