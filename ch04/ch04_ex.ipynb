{
 "cells": [
  {
   "cell_type": "code",
   "execution_count": 1,
   "metadata": {},
   "outputs": [
    {
     "name": "stdout",
     "output_type": "stream",
     "text": [
      "Yes\n"
     ]
    }
   ],
   "source": [
    "if True :\n",
    "    print(\"Yes\")\n",
    "\n",
    "if False :\n",
    "    # 출력되지 않음.\n",
    "    print(\"No\")"
   ]
  },
  {
   "cell_type": "code",
   "execution_count": 2,
   "metadata": {},
   "outputs": [
    {
     "name": "stdout",
     "output_type": "stream",
     "text": [
      "False\n",
      "True\n",
      "True\n",
      "True\n",
      "False\n",
      "False\n"
     ]
    }
   ],
   "source": [
    "a = 1\n",
    "b = 0\n",
    "\n",
    "# == 양 변이 같을 때 참.\n",
    "print(a == b)\n",
    "\n",
    "# != 양 변이 다를 때 참.\n",
    "print(a != b)\n",
    "\n",
    "# > 왼쪽이 클때 참.\n",
    "print(a > b)\n",
    "\n",
    "# >= 왼쪽이 크거나 같을 때 참.\n",
    "print(a >= b)\n",
    "\n",
    "# < 오른쪽이 클 때 참.\n",
    "print(a < b)\n",
    "\n",
    "# <= 오른쪽이 크거나 같을 때 참.\n",
    "print(a <= b)"
   ]
  },
  {
   "cell_type": "code",
   "execution_count": 3,
   "metadata": {},
   "outputs": [
    {
     "name": "stdout",
     "output_type": "stream",
     "text": [
      "Oh, you are here\n"
     ]
    }
   ],
   "source": [
    "if False:\n",
    "    # 여기는 실행되지 않음.\n",
    "    print(\"You can't reach here\")\n",
    "else:\n",
    "    # 여기가 실행된다.\n",
    "    print(\"Oh, you are here\")"
   ]
  },
  {
   "cell_type": "code",
   "execution_count": 4,
   "metadata": {},
   "outputs": [
    {
     "name": "stdout",
     "output_type": "stream",
     "text": [
      "Please enter your name\n"
     ]
    }
   ],
   "source": [
    "name = \"\"\n",
    "if name:\n",
    "    print(\"Your name is:\", name)\n",
    "else:\n",
    "    # 이쪽이 출력된다.\n",
    "    print(\"Please enter your name\")"
   ]
  },
  {
   "cell_type": "code",
   "execution_count": 5,
   "metadata": {},
   "outputs": [
    {
     "name": "stdout",
     "output_type": "stream",
     "text": [
      "Your name is: Miku\n"
     ]
    }
   ],
   "source": [
    "name = \"Miku\"\n",
    "\n",
    "if name:\n",
    "    # 이쪽이 출력된다.\n",
    "    print(\"Your name is:\", name)\n",
    "else:\n",
    "    print(\"Please enter your name\")"
   ]
  },
  {
   "cell_type": "code",
   "execution_count": 6,
   "metadata": {},
   "outputs": [
    {
     "name": "stdout",
     "output_type": "stream",
     "text": [
      "Second elif block\n",
      "Hello Miku!\n"
     ]
    }
   ],
   "source": [
    "number = 39\n",
    "\n",
    "if number == 13:\n",
    "    # 실행되지 않는다.\n",
    "    print(\"First if block\")\n",
    "elif number == 39:\n",
    "    # 이 블록이 실행된다.\n",
    "    print(\"Second elif block\")\n",
    "    print(\"Hello Miku!\")\n",
    "else :\n",
    "    # 실행되지 않는다.\n",
    "    print(\"oh...\")"
   ]
  },
  {
   "cell_type": "code",
   "execution_count": 7,
   "metadata": {},
   "outputs": [
    {
     "name": "stdout",
     "output_type": "stream",
     "text": [
      "You are digital diva miku!\n"
     ]
    }
   ],
   "source": [
    "name = \"miku\"\n",
    "number = 39\n",
    "\n",
    "# 복수의 조건이 모두 참일 경우에 실행.\n",
    "if name == \"miku\" and number == 39:\n",
    "    print(\"You are digital diva miku!\")\n",
    "else:\n",
    "    print(\"D.va?\")"
   ]
  },
  {
   "cell_type": "code",
   "execution_count": 8,
   "metadata": {},
   "outputs": [
    {
     "name": "stdout",
     "output_type": "stream",
     "text": [
      "You must be D.va !!\n",
      "Welcome back to overwatch\n"
     ]
    }
   ],
   "source": [
    "nick = \"D.va\"\n",
    "name = \"Song hana\"\n",
    "\n",
    "if nick == \"D.va\" or nick == \"Diva\":\n",
    "    print(\"You must be\", nick,\"!!\")\n",
    "\n",
    "if nick == \"Diva\" or name == \"Song hana\":\n",
    "    print(\"Welcome back to overwatch\")"
   ]
  },
  {
   "cell_type": "code",
   "execution_count": 9,
   "metadata": {},
   "outputs": [
    {
     "name": "stdout",
     "output_type": "stream",
     "text": [
      "False\n",
      "True\n"
     ]
    }
   ],
   "source": [
    "print(not True)\n",
    "print(not False)"
   ]
  },
  {
   "cell_type": "code",
   "execution_count": 10,
   "metadata": {},
   "outputs": [
    {
     "name": "stdout",
     "output_type": "stream",
     "text": [
      "You are diva!\n"
     ]
    }
   ],
   "source": [
    "is_diva = False\n",
    "\n",
    "if not is_diva:\n",
    "    print(\"You are diva!\")"
   ]
  },
  {
   "cell_type": "code",
   "execution_count": 11,
   "metadata": {},
   "outputs": [
    {
     "name": "stdout",
     "output_type": "stream",
     "text": [
      "True\n",
      "True\n",
      "False\n",
      "True\n",
      "True\n",
      "False\n"
     ]
    }
   ],
   "source": [
    "l = [1, 2, 3]\n",
    "s = {4, 5, 6, 6}\n",
    "d = {\"one\":1, \"two\":2, \"three\":3}\n",
    "t = (7, 8, 9)\n",
    "\n",
    "print(1 in l)\n",
    "print(6 in s)\n",
    "print(7 in s)\n",
    "print(\"one\" in d)\n",
    "print(9 in t)\n",
    "print(10 in t)"
   ]
  },
  {
   "cell_type": "code",
   "execution_count": 12,
   "metadata": {},
   "outputs": [
    {
     "name": "stdout",
     "output_type": "stream",
     "text": [
      "True\n"
     ]
    }
   ],
   "source": [
    "d = {\"one\":1, \"two\":2, \"three\":3}\n",
    "\n",
    "print(1 in d.values())"
   ]
  },
  {
   "cell_type": "code",
   "execution_count": 13,
   "metadata": {},
   "outputs": [
    {
     "name": "stdout",
     "output_type": "stream",
     "text": [
      "i is : 0\n",
      "i is : 1\n",
      "i is : 2\n",
      "i is : 3\n",
      "i is : 4\n",
      "i is : 5\n",
      "i is : 6\n",
      "i is : 7\n",
      "i is : 8\n",
      "i is : 9\n"
     ]
    }
   ],
   "source": [
    "i = 0\n",
    "\n",
    "while i < 10:\n",
    "    print(\"i is :\", i)\n",
    "    i += 1"
   ]
  },
  {
   "cell_type": "code",
   "execution_count": 14,
   "metadata": {},
   "outputs": [
    {
     "name": "stdout",
     "output_type": "stream",
     "text": [
      "0\n",
      "1\n",
      "2\n",
      "3\n",
      "4\n",
      "5\n",
      "6\n",
      "7\n",
      "8\n",
      "9\n"
     ]
    }
   ],
   "source": [
    "for i in range(10):\n",
    "    print(i)"
   ]
  },
  {
   "cell_type": "code",
   "execution_count": 15,
   "metadata": {},
   "outputs": [
    {
     "name": "stdout",
     "output_type": "stream",
     "text": [
      "You are Miku\n",
      "You are Rin\n",
      "You are Ren\n",
      "You are Luka\n",
      "You are Seeu\n",
      "You are D.va\n"
     ]
    }
   ],
   "source": [
    "names = [\"Miku\", \"Rin\", \"Ren\", \"Luka\", \"Seeu\", \"D.va\"]\n",
    "\n",
    "for name in names:\n",
    "    print(\"You are\", name)"
   ]
  },
  {
   "cell_type": "code",
   "execution_count": 16,
   "metadata": {},
   "outputs": [
    {
     "name": "stdout",
     "output_type": "stream",
     "text": [
      "You write number 1 on paper\n",
      "You write number 3 on paper\n",
      "You write number 9 on paper\n",
      "You write number 39 on paper\n",
      "You write number 40 on paper\n",
      "You write number 41 on paper\n"
     ]
    }
   ],
   "source": [
    "lotto_number = [1, 3, 9, 39, 40, 41]\n",
    "\n",
    "for number in lotto_number:\n",
    "    print(\"You write number\", number, \"on paper\")"
   ]
  },
  {
   "cell_type": "code",
   "execution_count": 17,
   "metadata": {},
   "outputs": [
    {
     "name": "stdout",
     "output_type": "stream",
     "text": [
      "Name : Miku\n",
      "version : 3\n",
      "company : Overwatch\n",
      "like_number : 39\n"
     ]
    }
   ],
   "source": [
    "Diva_info = {\n",
    "    \"Name\":\"Miku\",\n",
    "    \"version\":3,\n",
    "    \"company\":\"Overwatch\",\n",
    "    \"like_number\":39\n",
    "}\n",
    "\n",
    "for title in Diva_info:\n",
    "    print(title, \":\", Diva_info[title])"
   ]
  },
  {
   "cell_type": "code",
   "execution_count": 18,
   "metadata": {},
   "outputs": [
    {
     "name": "stdout",
     "output_type": "stream",
     "text": [
      "Miku\n",
      "3\n",
      "Overwatch\n",
      "39\n"
     ]
    }
   ],
   "source": [
    "for values in Diva_info.values():\n",
    "    print(values)"
   ]
  },
  {
   "cell_type": "code",
   "execution_count": 19,
   "metadata": {},
   "outputs": [
    {
     "name": "stdout",
     "output_type": "stream",
     "text": [
      "0\n",
      "1\n",
      "2\n",
      "3\n",
      "4\n",
      "5\n",
      "6\n",
      "7\n",
      "8\n",
      "9\n"
     ]
    }
   ],
   "source": [
    "for i in range(10):\n",
    "    print (i)"
   ]
  },
  {
   "cell_type": "code",
   "execution_count": 20,
   "metadata": {},
   "outputs": [
    {
     "name": "stdout",
     "output_type": "stream",
     "text": [
      "1\n",
      "3\n",
      "5\n",
      "7\n",
      "9\n",
      "11\n",
      "13\n",
      "15\n",
      "17\n",
      "19\n"
     ]
    }
   ],
   "source": [
    "for i in range(1, 20, 2):\n",
    "    print(i)"
   ]
  },
  {
   "cell_type": "code",
   "execution_count": 21,
   "metadata": {},
   "outputs": [
    {
     "name": "stdout",
     "output_type": "stream",
     "text": [
      "I found 9 but this is not I want\n",
      "I found 1 but this is not I want\n",
      "I found 2 but this is not I want\n",
      "I found 7 but this is not I want\n",
      "I found 0 but this is not I want\n",
      "I found 4 but this is not I want\n",
      "I found 10 but this is not I want\n",
      "I found 2 but this is not I want\n",
      "I Found it! 39!!\n"
     ]
    }
   ],
   "source": [
    "numbers = [9, 1, 2, 7, 0, 4, 10, 2, 39, 10, 33, 36, 38]\n",
    "\n",
    "for number in numbers:\n",
    "    if number == 39:\n",
    "        print(\"I Found it! 39!!\")\n",
    "        break\n",
    "    else:\n",
    "        print(\"I found\", number, \"but this is not I want\")"
   ]
  },
  {
   "cell_type": "code",
   "execution_count": 22,
   "metadata": {},
   "outputs": [
    {
     "name": "stdout",
     "output_type": "stream",
     "text": [
      "number: 2\n",
      "multiply by 2: 4\n",
      "number: 5\n",
      "multiply by 2: 10\n"
     ]
    }
   ],
   "source": [
    "l = [\"1\", 2, \"3\", \"4\", 5]\n",
    "\n",
    "for item in l:\n",
    "    if type(item) is str:\n",
    "        # item의 타입이 str일때 실행된다.\n",
    "        continue\n",
    "\n",
    "    print(\"number:\", item)\n",
    "    print(\"multiply by 2:\", item * 2)"
   ]
  },
  {
   "cell_type": "code",
   "execution_count": 23,
   "metadata": {},
   "outputs": [
    {
     "name": "stdout",
     "output_type": "stream",
     "text": [
      "I found 9 but this is not I want\n",
      "I found 1 but this is not I want\n",
      "I found 2 but this is not I want\n",
      "I found 7 but this is not I want\n",
      "I found 0 but this is not I want\n",
      "I found 4 but this is not I want\n",
      "I found 10 but this is not I want\n",
      "I found 2 but this is not I want\n",
      "I Found it! 39!!\n"
     ]
    }
   ],
   "source": [
    "numbers = [9, 1, 2, 7, 0, 4, 10, 2, 39, 10, 33, 36, 38]\n",
    "\n",
    "for number in numbers:\n",
    "    if number == 39:\n",
    "        print(\"I Found it! 39!!\")\n",
    "        break\n",
    "    else:\n",
    "        print(\"I found\", number, \"but this is not I want\")\n",
    "else:\n",
    "    print(\"Not Found 39...\")"
   ]
  },
  {
   "cell_type": "code",
   "execution_count": 24,
   "metadata": {},
   "outputs": [
    {
     "name": "stdout",
     "output_type": "stream",
     "text": [
      "I found 9 but this is not I want\n",
      "I found 1 but this is not I want\n",
      "I found 2 but this is not I want\n",
      "I found 7 but this is not I want\n",
      "I found 0 but this is not I want\n",
      "I found 4 but this is not I want\n",
      "I found 10 but this is not I want\n",
      "I found 2 but this is not I want\n",
      "I found 10 but this is not I want\n",
      "I found 33 but this is not I want\n",
      "I found 36 but this is not I want\n",
      "I found 38 but this is not I want\n",
      "Not Found 39...\n"
     ]
    }
   ],
   "source": [
    "numbers = [9, 1, 2, 7, 0, 4, 10, 2, 10, 33, 36, 38]\n",
    "\n",
    "for number in numbers:\n",
    "    if number == 39:\n",
    "        print(\"I Found it! 39!!\")\n",
    "        break\n",
    "    else:\n",
    "        print(\"I found\", number, \"but this is not I want\")\n",
    "else:\n",
    "    print(\"Not Found 39...\")"
   ]
  }
 ],
 "metadata": {
  "kernelspec": {
   "display_name": "Python 3",
   "language": "python",
   "name": "python3"
  },
  "language_info": {
   "codemirror_mode": {
    "name": "ipython",
    "version": 3
   },
   "file_extension": ".py",
   "mimetype": "text/x-python",
   "name": "python",
   "nbconvert_exporter": "python",
   "pygments_lexer": "ipython3",
   "version": "3.6.3"
  }
 },
 "nbformat": 4,
 "nbformat_minor": 2
}
