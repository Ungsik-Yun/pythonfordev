{
 "cells": [
  {
   "cell_type": "code",
   "execution_count": 1,
   "metadata": {},
   "outputs": [
    {
     "data": {
      "text/plain": [
       "{'documents': [{'authors': ['윤웅식'],\n",
       "   'barcode': 'BOK00027044995YE',\n",
       "   'category': '컴퓨터/IT',\n",
       "   'contents': '이 책이 제시하는 핵심 내용 Git과 GitHub를 이용한 버전 관리 시스템을 다루는 방법을 배우는 입문서다. 1부는 버전 관리 시스템과 Git 고유의 명령어 중심으로 Git의 기본 개념을 배운다...',\n",
       "   'datetime': '2015-08-20T00:00:00.000+09:00',\n",
       "   'ebook_barcode': 'DGT4808968482021',\n",
       "   'isbn': '8968482020 9788968482021',\n",
       "   'price': 28000,\n",
       "   'publisher': '한빛미디어',\n",
       "   'sale_price': 25200,\n",
       "   'sale_yn': 'Y',\n",
       "   'status': '정상판매',\n",
       "   'thumbnail': 'http://t1.daumcdn.net/thumb/R72x100/?fname=http%3A%2F%2Ft1.daumcdn.net%2Fbook%2FBOK00027044995YE%3Fmoddttm=20171022080619',\n",
       "   'title': '만들면서 배우는 Git + GitHub 입문',\n",
       "   'translators': [],\n",
       "   'url': 'http://book.daum.net/detail/book.do?bookid=BOK00027044995YE'}],\n",
       " 'meta': {'is_end': True, 'pageable_count': 1, 'total_count': 1}}"
      ]
     },
     "execution_count": 1,
     "metadata": {},
     "output_type": "execute_result"
    }
   ],
   "source": [
    "import requests\n",
    "import json\n",
    "\n",
    "url = \"https://dapi.kakao.com/v2/search/book\"\n",
    "querystring = {\"query\":\"윤웅식\"}\n",
    "header = {'authorization': 'KakaoAK <REST API 키>'}\n",
    "r = requests.get(url, headers=header, params=querystring)\n",
    "\n",
    "json.loads(r.text)"
   ]
  },
  {
   "cell_type": "code",
   "execution_count": 2,
   "metadata": {},
   "outputs": [
    {
     "data": {
      "text/plain": [
       "{'display': 1,\n",
       " 'items': [{'author': '<b>윤웅식</b>',\n",
       "   'description': '『GIT GITHUB 입문』은 GIT과 GITHUB를 이용한 버전 관리 시스템을 다루는 방법을 배우는 입문서다. 버전 관리 시스템과 GIT 고유의 명령어 중심으로 GIT의 기본 개념 및 GIT 기반의 대표적인 원격 저장소인 GITHUB에 가입해보고 사용하는 방법을 살펴본다. 또한 개발 환경에서 많이... ',\n",
       "   'discount': '25200',\n",
       "   'image': 'http://bookthumb.phinf.naver.net/cover/094/152/09415223.jpg?type=m1&udate=20170517',\n",
       "   'isbn': '8968482020 9788968482021',\n",
       "   'link': 'http://book.naver.com/bookdb/book_detail.php?bid=9415223',\n",
       "   'price': '28000',\n",
       "   'pubdate': '20150820',\n",
       "   'publisher': '한빛미디어',\n",
       "   'title': '만들면서 배우는 Git GitHub 입문 (세상의 모든 개발 코드를 공유하고 관리하는 소셜 코딩)'}],\n",
       " 'lastBuildDate': 'Sun, 22 Oct 2017 23:26:38 +0900',\n",
       " 'start': 1,\n",
       " 'total': 1}"
      ]
     },
     "execution_count": 2,
     "metadata": {},
     "output_type": "execute_result"
    }
   ],
   "source": [
    "import requests\n",
    "import json\n",
    "\n",
    "url = \"https://openapi.naver.com/v1/search/book.json?\"\n",
    "client_id = \"<Client ID>\"\n",
    "client_secret = \"<Client Secret>\"\n",
    "\n",
    "q = \"query=\" + \"윤웅식\"\n",
    "\n",
    "headers = {\n",
    "    \"X-Naver-Client-Id\":client_id,\n",
    "    \"X-Naver-Client-secret\":client_secret\n",
    "}\n",
    "\n",
    "r = requests.get(url+q, headers=headers)\n",
    "json.loads(r.text)"
   ]
  }
 ],
 "metadata": {
  "kernelspec": {
   "display_name": "Python 3",
   "language": "python",
   "name": "python3"
  },
  "language_info": {
   "codemirror_mode": {
    "name": "ipython",
    "version": 3
   },
   "file_extension": ".py",
   "mimetype": "text/x-python",
   "name": "python",
   "nbconvert_exporter": "python",
   "pygments_lexer": "ipython3",
   "version": "3.6.3"
  }
 },
 "nbformat": 4,
 "nbformat_minor": 2
}
