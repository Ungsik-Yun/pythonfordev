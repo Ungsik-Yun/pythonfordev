{
 "cells": [
  {
   "cell_type": "code",
   "execution_count": 1,
   "metadata": {},
   "outputs": [],
   "source": [
    "def hello(world):\n",
    "    print(\"Hello, \", world)"
   ]
  },
  {
   "cell_type": "code",
   "execution_count": 2,
   "metadata": {},
   "outputs": [
    {
     "name": "stdout",
     "output_type": "stream",
     "text": [
      "Hello,  Miku\n"
     ]
    }
   ],
   "source": [
    "to = \"Miku\"\n",
    "\n",
    "hello(to)"
   ]
  },
  {
   "cell_type": "code",
   "execution_count": 3,
   "metadata": {},
   "outputs": [
    {
     "name": "stdout",
     "output_type": "stream",
     "text": [
      "Hello, D.va\n"
     ]
    }
   ],
   "source": [
    "def hello_ret(world):\n",
    "    ret_value = \"Hello, \" + str(world)\n",
    "    return ret_value\n",
    "\n",
    "ret_str = hello_ret(\"D.va\")\n",
    "\n",
    "print(ret_str)"
   ]
  },
  {
   "cell_type": "code",
   "execution_count": 4,
   "metadata": {},
   "outputs": [
    {
     "name": "stdout",
     "output_type": "stream",
     "text": [
      "In func\n",
      "2\n"
     ]
    }
   ],
   "source": [
    "def func(number):\n",
    "    def func_in_func(number):\n",
    "        print(number)\n",
    "\n",
    "    print(\"In func\")\n",
    "    func_in_func(number + 1)\n",
    "\n",
    "func(1)"
   ]
  },
  {
   "cell_type": "code",
   "execution_count": 5,
   "metadata": {},
   "outputs": [
    {
     "ename": "NameError",
     "evalue": "name 'func_in_func' is not defined",
     "output_type": "error",
     "traceback": [
      "\u001b[1;31m---------------------------------------------------------------------------\u001b[0m",
      "\u001b[1;31mNameError\u001b[0m                                 Traceback (most recent call last)",
      "\u001b[1;32m<ipython-input-5-71127aa5e13f>\u001b[0m in \u001b[0;36m<module>\u001b[1;34m()\u001b[0m\n\u001b[0;32m      1\u001b[0m \u001b[1;31m# 실행되지 않음. 선언된 범위를 벗어난 곳에서 호출했기 때문입니다.\u001b[0m\u001b[1;33m\u001b[0m\u001b[1;33m\u001b[0m\u001b[0m\n\u001b[1;32m----> 2\u001b[1;33m \u001b[0mfunc_in_func\u001b[0m\u001b[1;33m(\u001b[0m\u001b[1;36m2\u001b[0m\u001b[1;33m)\u001b[0m\u001b[1;33m\u001b[0m\u001b[0m\n\u001b[0m",
      "\u001b[1;31mNameError\u001b[0m: name 'func_in_func' is not defined"
     ]
    }
   ],
   "source": [
    "# 실행되지 않음. 선언된 범위를 벗어난 곳에서 호출했기 때문입니다.\n",
    "func_in_func(2)"
   ]
  },
  {
   "cell_type": "code",
   "execution_count": 6,
   "metadata": {},
   "outputs": [
    {
     "data": {
      "text/plain": [
       "156"
      ]
     },
     "execution_count": 6,
     "metadata": {},
     "output_type": "execute_result"
    }
   ],
   "source": [
    "# 단어 1개, 숫자 1개를 전달받아서 단어의 길이와 숫자를 곱해서 반환합니다.\n",
    "def count_lenth(word : str, num : int) -> int:\n",
    "    return len(word) * num\n",
    "\n",
    "count_lenth(\"miku\", 39)"
   ]
  },
  {
   "cell_type": "code",
   "execution_count": 7,
   "metadata": {},
   "outputs": [
    {
     "name": "stdout",
     "output_type": "stream",
     "text": [
      "8\n"
     ]
    }
   ],
   "source": [
    "def add_with_transform(left, right, transform_func):\n",
    "    tmp_val = transform_func(left) + transform_func(right)\n",
    "    return transform_func(tmp_val)\n",
    "\n",
    "def add_plus_1(number):\n",
    "    return number + 1\n",
    "\n",
    "# (2 + 1) + (3 + 1) + 1 = 8\n",
    "ret_val = add_with_transform(2, 3, add_plus_1)\n",
    "\n",
    "print(ret_val)"
   ]
  },
  {
   "cell_type": "code",
   "execution_count": 8,
   "metadata": {},
   "outputs": [],
   "source": [
    "# 함수를 2행 이상을 사용해 선언.\n",
    "def add_1(number): \n",
    "    return number + 1\n",
    "\n",
    "# 위 함수를 1행으로 줄인 경우.\n",
    "def add_1_oneline(number): return number + 1"
   ]
  },
  {
   "cell_type": "code",
   "execution_count": 9,
   "metadata": {},
   "outputs": [
    {
     "data": {
      "text/plain": [
       "<function __main__.<lambda>>"
      ]
     },
     "execution_count": 9,
     "metadata": {},
     "output_type": "execute_result"
    }
   ],
   "source": [
    "# 람다\n",
    "lambda x: x + 1"
   ]
  },
  {
   "cell_type": "code",
   "execution_count": 10,
   "metadata": {},
   "outputs": [
    {
     "name": "stdout",
     "output_type": "stream",
     "text": [
      "6\n",
      "7\n"
     ]
    }
   ],
   "source": [
    "def add_1(number):\n",
    "    return number + 1\n",
    "\n",
    "add_plus_one = add_1\n",
    "\n",
    "print(add_1(5))\n",
    "print(add_plus_one(6))"
   ]
  },
  {
   "cell_type": "code",
   "execution_count": 11,
   "metadata": {},
   "outputs": [
    {
     "name": "stdout",
     "output_type": "stream",
     "text": [
      "8\n"
     ]
    }
   ],
   "source": [
    "lambda_plus_one = lambda x: x + 1\n",
    "\n",
    "print(lambda_plus_one(7))"
   ]
  },
  {
   "cell_type": "code",
   "execution_count": 12,
   "metadata": {},
   "outputs": [
    {
     "name": "stdout",
     "output_type": "stream",
     "text": [
      "8\n",
      "31.0\n"
     ]
    }
   ],
   "source": [
    "print(add_with_transform(2, 3, lambda x: x + 1))\n",
    "print(add_with_transform(110, 14, lambda x: x / 2))"
   ]
  }
 ],
 "metadata": {
  "kernelspec": {
   "display_name": "Python 3",
   "language": "python",
   "name": "python3"
  },
  "language_info": {
   "codemirror_mode": {
    "name": "ipython",
    "version": 3
   },
   "file_extension": ".py",
   "mimetype": "text/x-python",
   "name": "python",
   "nbconvert_exporter": "python",
   "pygments_lexer": "ipython3",
   "version": "3.6.3"
  }
 },
 "nbformat": 4,
 "nbformat_minor": 2
}
