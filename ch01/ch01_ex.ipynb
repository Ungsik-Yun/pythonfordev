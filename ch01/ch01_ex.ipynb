{
 "cells": [
  {
   "cell_type": "code",
   "execution_count": 1,
   "metadata": {},
   "outputs": [
    {
     "name": "stdout",
     "output_type": "stream",
     "text": [
      "Hello Miku!\n"
     ]
    }
   ],
   "source": [
    "print(\"Hello Miku!\")"
   ]
  },
  {
   "cell_type": "code",
   "execution_count": 2,
   "metadata": {},
   "outputs": [
    {
     "name": "stdout",
     "output_type": "stream",
     "text": [
      "Please input Your name: Miku\n",
      "Please input your favorite number: 39\n",
      "Miku's favorite number is 39\n"
     ]
    }
   ],
   "source": [
    "user_name = input(\"Please input Your name: \")\n",
    "user_number = input(\"Please input your favorite number: \")\n",
    "\n",
    "print(\"%s's favorite number is %d\"%(user_name, int(user_number) ))"
   ]
  },
  {
   "cell_type": "code",
   "execution_count": 3,
   "metadata": {},
   "outputs": [
    {
     "name": "stdout",
     "output_type": "stream",
     "text": [
      "Please input file name: test.csv\n"
     ]
    }
   ],
   "source": [
    "infile_name = input(\"Please input file name: \")\n",
    "outfile_name = \"out.log\"\n",
    "\n",
    "with open(infile_name) as infile:\n",
    "    with open(outfile_name, \"w\") as outfile:\n",
    "        for in_line in infile.readlines():\n",
    "            outfile.write(\"read from '%s' : %s\"%(infile_name, in_line))"
   ]
  }
 ],
 "metadata": {
  "kernelspec": {
   "display_name": "Python 3",
   "language": "python",
   "name": "python3"
  },
  "language_info": {
   "codemirror_mode": {
    "name": "ipython",
    "version": 3
   },
   "file_extension": ".py",
   "mimetype": "text/x-python",
   "name": "python",
   "nbconvert_exporter": "python",
   "pygments_lexer": "ipython3",
   "version": "3.6.3"
  }
 },
 "nbformat": 4,
 "nbformat_minor": 2
}
