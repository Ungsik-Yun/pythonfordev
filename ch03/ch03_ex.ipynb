{
 "cells": [
  {
   "cell_type": "code",
   "execution_count": 1,
   "metadata": {},
   "outputs": [
    {
     "name": "stdout",
     "output_type": "stream",
     "text": [
      "<class 'str'>\n",
      "<class 'bool'>\n",
      "<class 'float'>\n",
      "<class 'int'>\n",
      "<class 'list'>\n",
      "<class 'dict'>\n"
     ]
    }
   ],
   "source": [
    "diva = \"Song Hana\"\n",
    "is_she_play_to_win = True\n",
    "digital_diva = \"Hatsune Miku\"\n",
    "diva_version = 3.0\n",
    "how_many_diva = 2\n",
    "diva_list = [diva, digital_diva]\n",
    "new_challenger = {\n",
    "    \"name\":\"Miku\"\n",
    "}\n",
    "\n",
    "print(type(digital_diva))\n",
    "print(type(is_she_play_to_win))\n",
    "print(type(diva_version))\n",
    "print(type(how_many_diva))\n",
    "print(type(diva_list))\n",
    "print(type(new_challenger))"
   ]
  },
  {
   "cell_type": "code",
   "execution_count": 2,
   "metadata": {},
   "outputs": [
    {
     "name": "stdout",
     "output_type": "stream",
     "text": [
      "39\n",
      "-3\n",
      "99999999999999999999999999999999999999999999999999\n"
     ]
    }
   ],
   "source": [
    "i = 39\n",
    "i2 = -3\n",
    "biiiiig_int = 99999999999999999999999999999999999999999999999999\n",
    "\n",
    "print(i)\n",
    "print(i2)\n",
    "print(biiiiig_int)"
   ]
  },
  {
   "cell_type": "code",
   "execution_count": 3,
   "metadata": {},
   "outputs": [
    {
     "name": "stdout",
     "output_type": "stream",
     "text": [
      "0.9999\n",
      "3.141592\n",
      "-3.9\n",
      "0.3333333333333333\n"
     ]
    }
   ],
   "source": [
    "f = 0.9999\n",
    "f2 = 3.141592\n",
    "f3 = -3.9\n",
    "f4 = 3/9\n",
    "\n",
    "print(f)\n",
    "print(f2)\n",
    "print(f3)\n",
    "print(f4)"
   ]
  },
  {
   "cell_type": "code",
   "execution_count": 4,
   "metadata": {},
   "outputs": [
    {
     "name": "stdout",
     "output_type": "stream",
     "text": [
      "##### + #####\n",
      "i1 + i2 :  978\n",
      "f1 + f2 :  5.173\n",
      "big_int1 + big_int2 :  1123456789123456789012345678901234567889\n",
      "i1 + f1 :  40.234\n",
      "##### - #####\n",
      "i1 - i2:  -900\n",
      "f1 - f2:  -2.705\n",
      "big_int1 - big_int2:  -876543210876543210987654321098765432109\n",
      "i1 - f1:  37.766\n",
      "##### * #####\n",
      "i1 * i2:  36621\n",
      "f1 * f2:  4.860726\n",
      "big_int1 * big_int2:  123456789123456789012345678901234567889876543210876543210987654321098765432110\n",
      "i1 * f1:  48.126\n",
      "##### / #####\n",
      "i2 / i1:  24.076923076923077\n",
      "f2 / f1:  3.1920583468395463\n",
      "big_int2 / big_int1:  8.10000006561\n",
      "i1 / f1:  31.60453808752026\n",
      "f1 / i1:  0.03164102564102564\n",
      "##### // #####\n",
      "i2 // i1:  24\n",
      "f2 // f1:  3.0\n",
      "big_int2 // big_int1:  8\n",
      "i1 // f1:  31.0\n",
      "f1 // i1:  0.0\n",
      "##### % #####\n",
      "i1 % i2 : 39\n",
      "f1 % f2 : 1.234\n",
      "big_int1 % big_int2 : 123456789123456789012345678901234567890\n",
      "i1 % f1 : 0.7460000000000004\n",
      "f1 % i1 : 1.234\n",
      "##### ** #####\n",
      "2 ** 3:  8\n",
      "i1 ** i2:  1022506312626635583804665030439848517886568042318083335883591278398438037288741990566558622100138406141643558158275024105444365536879201660885612644021445261444940742179797251796081892688027914559485473798772396512743732340523023151763660943751019131006308098788307144783696606939051578708338398053028367082638273189192434285150846461558297694776902793801564417306838969109663906055052907811614020360408193312813992026141346881644852197209917516412059364266098525652931099021885382041007793566316514615169179944928856384530132713368424697747100417896428655313414528755698998321671054850811102964679789653723028769348909103153993982582100515416669313157230956389993552417454656410560599758074525741542650281866589385696863929193963058181665847576483338830549810589782953329729597632595024734286078284939382833418335640042579137106857539338373422439805326922155940680240986288345037060969659512427144030964154102951713380645977336411938613440920613823685184818054548437463240254014958456975735050353322662241529452981520149054985517676452974236772432487364293991470964099037797636014730970362515008030368654913029567190786024079384496497756671771817107140203810333022334649590282423942722147721919738626342294242915008528804177851320976364543109216532895238412244610627773269723239459235317671518827568480961721312764409452089860018349101981333363883093727283973691806925736612803559125010274993787069849308224144485220613402198029509103574257814462424323830881877483524940133039777525461756147959\n",
      "f1 ** f2:  2.289235194260789\n",
      "i1 ** f1:  91.91231928197118\n",
      "f1 ** i1:  3641.5915127246435\n"
     ]
    }
   ],
   "source": [
    "i1 = 39\n",
    "i2 = 939\n",
    "big_int1 = 123456789123456789012345678901234567890\n",
    "big_int2 = 999999999999999999999999999999999999999\n",
    "f1 = 1.234\n",
    "f2 = 3.939\n",
    "\n",
    "# +\n",
    "print(\"##### + #####\")\n",
    "print(\"i1 + i2 : \", i1 + i2) # 정수끼리\n",
    "print(\"f1 + f2 : \", f1 + f2) # 실수끼리\n",
    "print(\"big_int1 + big_int2 : \", big_int1 + big_int2) #엄청 큰 수끼리\n",
    "print(\"i1 + f1 : \", i1 + f1) #실수와 정수끼리\n",
    "\n",
    "# -\n",
    "print(\"##### - #####\")\n",
    "print(\"i1 - i2: \", i1 - i2) # 정수끼리\n",
    "print(\"f1 - f2: \", f1 - f2) # 실수끼리\n",
    "print(\"big_int1 - big_int2: \", big_int1 - big_int2) #엄청 큰 수끼리\n",
    "print(\"i1 - f1: \", i1 - f1) #실수와 정수끼리\n",
    "\n",
    "# *\n",
    "print(\"##### * #####\")\n",
    "print(\"i1 * i2: \",i1 * i2) # 정수끼리\n",
    "print(\"f1 * f2: \",f1 * f2) # 실수끼리\n",
    "print(\"big_int1 * big_int2: \",big_int1 * big_int2) #엄청 큰 수끼리\n",
    "print(\"i1 * f1: \",i1 * f1) #실수와 정수끼리\n",
    "\n",
    "# /\n",
    "print(\"##### / #####\")\n",
    "print(\"i2 / i1: \", i2 / i1) # 정수끼리\n",
    "print(\"f2 / f1: \", f2 / f1) # 실수끼리\n",
    "print(\"big_int2 / big_int1: \", big_int2 / big_int1) #엄청 큰 수끼리\n",
    "print(\"i1 / f1: \", i1 / f1) #실수와 정수끼리\n",
    "print(\"f1 / i1: \", f1 / i1)\n",
    "\n",
    "# //\n",
    "print(\"##### // #####\")\n",
    "print(\"i2 // i1: \", i2 // i1) # 정수끼리\n",
    "print(\"f2 // f1: \", f2 // f1) # 실수끼리\n",
    "print(\"big_int2 // big_int1: \", big_int2 // big_int1) #엄청 큰 수끼리\n",
    "print(\"i1 // f1: \", i1 // f1) #실수와 정수끼리\n",
    "print(\"f1 // i1: \", f1 // i1)\n",
    "\n",
    "# %\n",
    "print(\"##### % #####\")\n",
    "print(\"i1 % i2 :\", i1 % i2) # 정수끼리\n",
    "print(\"f1 % f2 :\", f1 % f2) # 실수끼리\n",
    "print(\"big_int1 % big_int2 :\", big_int1 % big_int2) #엄청 큰 수끼리\n",
    "print(\"i1 % f1 :\", i1 % f1) #실수와 정수끼리\n",
    "print(\"f1 % i1 :\", f1 % i1)\n",
    "\n",
    "# **\n",
    "print(\"##### ** #####\")\n",
    "print(\"2 ** 3: \", 2 ** 3) # 2의 3승.\n",
    "print(\"i1 ** i2: \", i1 ** i2) # 정수끼리\n",
    "print(\"f1 ** f2: \", f1 ** f2) # 실수끼리\n",
    "print(\"i1 ** f1: \", i1 ** f1) #실수와 정수끼리\n",
    "print(\"f1 ** i1: \", f1 ** i1)"
   ]
  },
  {
   "cell_type": "code",
   "execution_count": 5,
   "metadata": {},
   "outputs": [
    {
     "name": "stdout",
     "output_type": "stream",
     "text": [
      "<class 'str'>\n",
      "<class 'str'>\n"
     ]
    }
   ],
   "source": [
    "diva = \"Miku\"\n",
    "another_diva = 'Song Hana'\n",
    "print(type(diva))\n",
    "print(type(another_diva))"
   ]
  },
  {
   "cell_type": "code",
   "execution_count": 6,
   "metadata": {},
   "outputs": [
    {
     "name": "stdout",
     "output_type": "stream",
     "text": [
      "This is \"double quote\"\n",
      "This isn't\n"
     ]
    }
   ],
   "source": [
    "escape_s1 = \"This is \\\"double quote\\\"\"\n",
    "escape_s2 = 'This isn\\'t'\n",
    "print (escape_s1)\n",
    "print(escape_s2)"
   ]
  },
  {
   "cell_type": "code",
   "execution_count": 7,
   "metadata": {},
   "outputs": [
    {
     "name": "stdout",
     "output_type": "stream",
     "text": [
      "Tab \tThis\n",
      "New Line\n",
      "Hello!\n"
     ]
    }
   ],
   "source": [
    "s1 = \"Tab \\tThis\"\n",
    "s2 = \"New Line\\nHello!\"\n",
    "\n",
    "print(s1)\n",
    "print(s2)"
   ]
  },
  {
   "cell_type": "code",
   "execution_count": 8,
   "metadata": {},
   "outputs": [
    {
     "name": "stdout",
     "output_type": "stream",
     "text": [
      "C:\\Programs\\new program\\\"\n",
      "\\\\t\\n\\b\\s\n",
      "\\'\"\n",
      "\\\"'\n"
     ]
    }
   ],
   "source": [
    "raw_s1 = r'C:\\Programs\\new program\\\"'\n",
    "raw_s2 = r\"\\\\t\\n\\b\\s\"\n",
    "raw_s3 = r'\\'\"'\n",
    "raw_s4 = r\"\\\"'\"\n",
    "\n",
    "print(raw_s1)\n",
    "print(raw_s2)\n",
    "print(raw_s3)\n",
    "print(raw_s4)"
   ]
  },
  {
   "cell_type": "code",
   "execution_count": 9,
   "metadata": {},
   "outputs": [
    {
     "name": "stdout",
     "output_type": "stream",
     "text": [
      "이 문자열은\n",
      "멀티라인\n",
      "문자열입니다\n"
     ]
    }
   ],
   "source": [
    "multi_s = \"\"\"이 문자열은\n",
    "멀티라인\n",
    "문자열입니다\"\"\"\n",
    "\n",
    "print(multi_s)"
   ]
  },
  {
   "cell_type": "code",
   "execution_count": 10,
   "metadata": {},
   "outputs": [
    {
     "name": "stdout",
     "output_type": "stream",
     "text": [
      "이 문자열 역시 멀티라인 문자열입니다.한 줄의 마지막에\n",
      "역슬래시를 붙이면\n",
      "줄바꿈이 되지 않습니다.\n",
      "\n"
     ]
    }
   ],
   "source": [
    "multi_s2 = '''이 문자열 역시 \\\n",
    "멀티라인 문자열입니다.\\\n",
    "한 줄의 마지막에\n",
    "역슬래시를 붙이면\n",
    "줄바꿈이 \\\n",
    "되지 않습니다.\n",
    "'''\n",
    "\n",
    "print(multi_s2)"
   ]
  },
  {
   "cell_type": "code",
   "execution_count": 11,
   "metadata": {},
   "outputs": [
    {
     "name": "stdout",
     "output_type": "stream",
     "text": [
      "MikuMikuMiku\n",
      "HatsuneMiku\n"
     ]
    }
   ],
   "source": [
    "dava = \"Miku\"\n",
    "first_sound = \"Hatsune\"\n",
    "\n",
    "print(3*diva)\n",
    "print(first_sound+diva)"
   ]
  },
  {
   "cell_type": "code",
   "execution_count": 12,
   "metadata": {},
   "outputs": [
    {
     "name": "stdout",
     "output_type": "stream",
     "text": [
      "['__add__', '__class__', '__contains__', '__delattr__', '__dir__', '__doc__', '__eq__', '__format__', '__ge__', '__getattribute__', '__getitem__', '__getnewargs__', '__gt__', '__hash__', '__init__', '__init_subclass__', '__iter__', '__le__', '__len__', '__lt__', '__mod__', '__mul__', '__ne__', '__new__', '__reduce__', '__reduce_ex__', '__repr__', '__rmod__', '__rmul__', '__setattr__', '__sizeof__', '__str__', '__subclasshook__', 'capitalize', 'casefold', 'center', 'count', 'encode', 'endswith', 'expandtabs', 'find', 'format', 'format_map', 'index', 'isalnum', 'isalpha', 'isdecimal', 'isdigit', 'isidentifier', 'islower', 'isnumeric', 'isprintable', 'isspace', 'istitle', 'isupper', 'join', 'ljust', 'lower', 'lstrip', 'maketrans', 'partition', 'replace', 'rfind', 'rindex', 'rjust', 'rpartition', 'rsplit', 'rstrip', 'split', 'splitlines', 'startswith', 'strip', 'swapcase', 'title', 'translate', 'upper', 'zfill']\n",
      "Capitalize:  Miku\n",
      "is 'first_sound' end with 'e'?:  True\n",
      "join strings with 'diva' str:  kagamineMikulenMikumegurine\n"
     ]
    }
   ],
   "source": [
    "print(dir(diva))\n",
    "\n",
    "print(\"Capitalize: \", diva.capitalize())\n",
    "print(\"is 'first_sound' end with 'e'?: \", first_sound.endswith(\"e\"))\n",
    "print(\"join strings with 'diva' str: \", diva.join([\"kagamine\", \"len\", \"megurine\"]))"
   ]
  },
  {
   "cell_type": "code",
   "execution_count": 13,
   "metadata": {},
   "outputs": [
    {
     "name": "stdout",
     "output_type": "stream",
     "text": [
      "[1, 2, 3]\n",
      "1\n",
      "['a', 'b', 'c', 'diva']\n",
      "b\n",
      "['miku', 39]\n",
      "miku\n",
      "[[0, 1], [2, 3], [4, 5]]\n",
      "5\n"
     ]
    }
   ],
   "source": [
    "l1 = [1, 2, 3]\n",
    "l2 = [\"a\", \"b\", \"c\", \"diva\"]\n",
    "l3 = ['miku', 39]\n",
    "l4 = [[0, 1], [2, 3], [4, 5]]\n",
    "\n",
    "print(l1)\n",
    "print(l1[0])\n",
    "print(l2)\n",
    "print(l2[1])\n",
    "print(l3)\n",
    "print(l3[0])\n",
    "print(l4)\n",
    "print(l4[2][1])"
   ]
  },
  {
   "cell_type": "code",
   "execution_count": 14,
   "metadata": {},
   "outputs": [
    {
     "name": "stdout",
     "output_type": "stream",
     "text": [
      "['H', 'a', 't', 's', 'u', 'n', 'e', ' ', 'M', 'i', 'k', 'u']\n",
      "[1, 2, 3, 'a', 'b', 'c', 'diva', 'miku', 39]\n"
     ]
    }
   ],
   "source": [
    "l5 = list(\"Hatsune Miku\")\n",
    "\n",
    "# 위에서 생성한 리스트를 이용해 새로 리스트를 생성합니다.\n",
    "l6 = list(l1+l2+l3)\n",
    "\n",
    "print(l5)\n",
    "print(l6)"
   ]
  },
  {
   "cell_type": "code",
   "execution_count": 15,
   "metadata": {},
   "outputs": [
    {
     "name": "stdout",
     "output_type": "stream",
     "text": [
      "l5 =  [0, 1, 2, 3, 4, 5]\n",
      "l5[-1] =  5\n",
      "l5[-2] =  4\n",
      "l5[-6] =  0\n"
     ]
    }
   ],
   "source": [
    "l5 = [ 0, 1, 2, 3, 4, 5]\n",
    "#      0  1  2  3  4  5\n",
    "#     -6 -5 -4 -3 -2 -1\n",
    "print(\"l5 = \", l5)\n",
    "print(\"l5[-1] = \", l5[-1])\n",
    "print(\"l5[-2] = \", l5[-2])\n",
    "print(\"l5[-6] = \", l5[-6])"
   ]
  },
  {
   "cell_type": "code",
   "execution_count": 16,
   "metadata": {},
   "outputs": [
    {
     "name": "stdout",
     "output_type": "stream",
     "text": [
      "l1 + l2 =  [1, 2, 3, 4, 5, 6]\n",
      "l1 * 3 = [1, 2, 3, 1, 2, 3, 1, 2, 3]\n"
     ]
    }
   ],
   "source": [
    "l1 = [1, 2, 3]\n",
    "l2 = [4, 5, 6]\n",
    "\n",
    "print(\"l1 + l2 = \", l1 + l2)\n",
    "print(\"l1 * 3 =\", l1 * 3)"
   ]
  },
  {
   "cell_type": "code",
   "execution_count": 17,
   "metadata": {},
   "outputs": [
    {
     "name": "stdout",
     "output_type": "stream",
     "text": [
      "l1 =  [0, 1, 2, 3, 4, 5, 6, 7, 8, 9, 10, 11, 12, 13, 14, 15, 16, 17, 18, 19]\n",
      "l1[9:] =  [9, 10, 11, 12, 13, 14, 15, 16, 17, 18, 19]\n",
      "l1[:15] =  [0, 1, 2, 3, 4, 5, 6, 7, 8, 9, 10, 11, 12, 13, 14]\n",
      "l1[::2] =  [0, 2, 4, 6, 8, 10, 12, 14, 16, 18]\n",
      "l1[::7] =  [0, 7, 14]\n",
      "l1[5::2] =  [5, 7, 9, 11, 13, 15, 17, 19]\n",
      "l1[:17:4] =  [0, 4, 8, 12, 16]\n",
      "l1[7:15:3] =  [7, 10, 13]\n"
     ]
    }
   ],
   "source": [
    "l1 = [0, 1, 2, 3, 4, 5, 6, 7, 8, 9, 10, 11, 12, 13, 14, 15, 16, 17, 18, 19]\n",
    "\n",
    "print(\"l1 = \", l1)\n",
    "\n",
    "# list[start:stop:step]\n",
    "# list[start:]\n",
    "# list[:stop]\n",
    "# list[::step]\n",
    "# list[start:stop]\n",
    "# list[start::step]\n",
    "# list[:stop:step]\n",
    "\n",
    "# 9번째 인덱스 이후만 가져오기.\n",
    "print(\"l1[9:] = \", l1[9:])\n",
    "\n",
    "# 15번째 인덱스 이전만 가져오기.\n",
    "print(\"l1[:15] = \", l1[:15])\n",
    "\n",
    "# 2번째마다의 아이템을 가져오기.\n",
    "print(\"l1[::2] = \", l1[::2])\n",
    "\n",
    "# 7번째마다의 아이템을 가져오기.\n",
    "print(\"l1[::7] = \", l1[::7])\n",
    "\n",
    "# 5번째부터 시작해서 2번째마다 아이템을 가져오기.\n",
    "print(\"l1[5::2] = \", l1[5::2])\n",
    "\n",
    "# 17번째 이전까지 매 4번째마다 아이템을 가져오기.\n",
    "print(\"l1[:17:4] = \", l1[:17:4])\n",
    "\n",
    "# 7번째부터 시작해서 3번째마다 아이템을 가져오고, 15번째를 전달하지 않기.\n",
    "print(\"l1[7:15:3] = \", l1[7:15:3])"
   ]
  },
  {
   "cell_type": "code",
   "execution_count": 18,
   "metadata": {},
   "outputs": [
    {
     "name": "stdout",
     "output_type": "stream",
     "text": [
      "s1 = Hatsune Miku\n",
      "s1[2] = t\n",
      "s1[8:] = Miku\n",
      "s1[-4:] = Miku\n",
      "s1[:7] = Hatsune\n",
      "s1[::2] = HtueMk\n"
     ]
    }
   ],
   "source": [
    "s1 = \"Hatsune Miku\"\n",
    "\n",
    "print(\"s1 =\", s1)\n",
    "\n",
    "print(\"s1[2] =\", s1[2])\n",
    "print(\"s1[8:] =\", s1[8:])\n",
    "print(\"s1[-4:] =\", s1[-4:])\n",
    "print(\"s1[:7] =\", s1[:7])\n",
    "print(\"s1[::2] =\", s1[::2])"
   ]
  },
  {
   "cell_type": "code",
   "execution_count": 19,
   "metadata": {},
   "outputs": [
    {
     "name": "stdout",
     "output_type": "stream",
     "text": [
      "Yes! This is True!!!\n",
      "Nope\n",
      "Yes! This is True!!!\n",
      "Nope\n",
      "Miku\n",
      "Hatsune\n",
      "Miku\n",
      "Song Hana\n"
     ]
    }
   ],
   "source": [
    "d1 = {\n",
    "    True:\"Yes! This is True!!!\",\n",
    "    False:\"Nope\",\n",
    "    39:\"Miku\",\n",
    "    39.39:\"Hatsune\",\n",
    "    \"Diva\":\"Song Hana\",\n",
    "    }\n",
    "\n",
    "# True and False\n",
    "print(d1[True])\n",
    "print(d1[False])\n",
    "print(d1[1 > 0])\n",
    "print(d1[-1 > 0])\n",
    "\n",
    "# numbers\n",
    "miku = 39\n",
    "print(d1[39])\n",
    "print(d1[39.39])\n",
    "print(d1[miku])\n",
    "\n",
    "# String\n",
    "print(d1[\"Diva\"])"
   ]
  },
  {
   "cell_type": "code",
   "execution_count": 20,
   "metadata": {},
   "outputs": [
    {
     "name": "stdout",
     "output_type": "stream",
     "text": [
      "{'on': 999, 'off': 100, 'l': [1, 2, 3], 's': 'miku'}\n"
     ]
    }
   ],
   "source": [
    "d2 = dict(on=999, off=100, l=[1, 2, 3], s=\"miku\")\n",
    "\n",
    "print(d2)"
   ]
  },
  {
   "cell_type": "code",
   "execution_count": 21,
   "metadata": {},
   "outputs": [
    {
     "name": "stdout",
     "output_type": "stream",
     "text": [
      "{'s', 'l', 't', 'u', 'a', 'o', 'e', 'n', 'h'}\n",
      "{'k', 'l', 'u', 'm', 'o', 'v', 'e', 'i'}\n",
      "{'S', 'a', 'o', 'g', 'n', ' ', 'h'}\n"
     ]
    }
   ],
   "source": [
    "set1 = {\"h\", \"e\", \"l\", \"l\", \"o\", \"h\", \"a\", \"t\", \"s\", \"u\", \"n\", \"e\"}\n",
    "set2 = {\"m\", \"i\", \"k\", \"u\", \"l\", \"o\", \"v\", \"e\"}\n",
    "set3 = set(\"Song hana\")\n",
    "\n",
    "print(set1)\n",
    "print(set2)\n",
    "print(set3)"
   ]
  },
  {
   "cell_type": "code",
   "execution_count": 22,
   "metadata": {},
   "outputs": [
    {
     "name": "stdout",
     "output_type": "stream",
     "text": [
      "{'e', 'o', 'u', 'l'}\n",
      "{'k', 's', 'l', 't', 'u', 'm', 'a', 'o', 'v', 'e', 'n', 'i', 'h'}\n",
      "{'s', 't', 'a', 'n', 'h'}\n"
     ]
    }
   ],
   "source": [
    "# 교집합\n",
    "print(set1 & set2)\n",
    "\n",
    "# 합집합\n",
    "print(set1 | set2)\n",
    "\n",
    "# 차집합\n",
    "print(set1 - set2)"
   ]
  },
  {
   "cell_type": "code",
   "execution_count": 23,
   "metadata": {},
   "outputs": [
    {
     "name": "stdout",
     "output_type": "stream",
     "text": [
      "(5, 6, 7, 8, 9)\n",
      "5\n",
      "(8, 9)\n",
      "(5, 6)\n"
     ]
    }
   ],
   "source": [
    "t1 = (5, 6, 7, 8, 9)\n",
    "\n",
    "print(t1)\n",
    "print(t1[0])\n",
    "print(t1[3:])\n",
    "print(t1[:2])"
   ]
  },
  {
   "cell_type": "code",
   "execution_count": 24,
   "metadata": {},
   "outputs": [
    {
     "ename": "TypeError",
     "evalue": "'tuple' object does not support item assignment",
     "output_type": "error",
     "traceback": [
      "\u001b[1;31m---------------------------------------------------------------------------\u001b[0m",
      "\u001b[1;31mTypeError\u001b[0m                                 Traceback (most recent call last)",
      "\u001b[1;32m<ipython-input-24-a75f7beedda4>\u001b[0m in \u001b[0;36m<module>\u001b[1;34m()\u001b[0m\n\u001b[1;32m----> 1\u001b[1;33m \u001b[0mt1\u001b[0m\u001b[1;33m[\u001b[0m\u001b[1;36m0\u001b[0m\u001b[1;33m]\u001b[0m \u001b[1;33m=\u001b[0m \u001b[1;36m1\u001b[0m\u001b[1;33m\u001b[0m\u001b[0m\n\u001b[0m",
      "\u001b[1;31mTypeError\u001b[0m: 'tuple' object does not support item assignment"
     ]
    }
   ],
   "source": [
    "t1[0] = 1"
   ]
  }
 ],
 "metadata": {
  "kernelspec": {
   "display_name": "Python 3",
   "language": "python",
   "name": "python3"
  },
  "language_info": {
   "codemirror_mode": {
    "name": "ipython",
    "version": 3
   },
   "file_extension": ".py",
   "mimetype": "text/x-python",
   "name": "python",
   "nbconvert_exporter": "python",
   "pygments_lexer": "ipython3",
   "version": "3.6.3"
  }
 },
 "nbformat": 4,
 "nbformat_minor": 2
}
